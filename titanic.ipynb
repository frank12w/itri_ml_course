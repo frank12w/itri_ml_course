{
  "nbformat": 4,
  "nbformat_minor": 0,
  "metadata": {
    "colab": {
      "name": "titanic",
      "provenance": [],
      "authorship_tag": "ABX9TyN63ZvbCY3dy1gkBsTPj2J3",
      "include_colab_link": true
    },
    "kernelspec": {
      "name": "python3",
      "display_name": "Python 3"
    }
  },
  "cells": [
    {
      "cell_type": "markdown",
      "metadata": {
        "id": "view-in-github",
        "colab_type": "text"
      },
      "source": [
        "<a href=\"https://colab.research.google.com/github/frank12w/itri_ml_course/blob/main/titanic.ipynb\" target=\"_parent\"><img src=\"https://colab.research.google.com/assets/colab-badge.svg\" alt=\"Open In Colab\"/></a>"
      ]
    },
    {
      "cell_type": "code",
      "metadata": {
        "colab": {
          "base_uri": "https://localhost:8080/",
          "height": 886
        },
        "id": "jEDYPIU74OTC",
        "outputId": "3a4b7d6b-7f9f-47ec-846b-11d3881ecf7b"
      },
      "source": [
        "#採樣出500~600筆資料\r\n",
        "#採樣出所有資料的性別,年齡和是否生存和embarked四個欄位作為新dataframe並找出各欄mode, mean, plot(hist, scatter)\r\n",
        "#對embarked欄位做onehot encode\r\n",
        "import pandas as pd\r\n",
        "df = pd.read_csv('train.csv')\r\n",
        "#part1\r\n",
        "df1 = df.loc[500:600, :]\r\n",
        "print(df1)\r\n",
        "#part2\r\n",
        "df2 = df.loc[:, ['Sex', 'Age', 'Survived', 'Embarked']]\r\n",
        "print(df2)\r\n",
        "print(df2.mode())\r\n",
        "print(df2.mean())\r\n",
        "#df會忽略缺失值; np不會\r\n",
        "ax1 = df2.plot.scatter(x='Age', y='Sex')\r\n",
        "df2_age = df2.loc[:, 'Age']\r\n",
        "ax2 = df2_age.plot.hist()\r\n"
      ],
      "execution_count": null,
      "outputs": [
        {
          "output_type": "stream",
          "text": [
            "     PassengerId  Survived  Pclass  ...     Fare Cabin  Embarked\n",
            "500          501         0       3  ...   8.6625   NaN         S\n",
            "501          502         0       3  ...   7.7500   NaN         Q\n",
            "502          503         0       3  ...   7.6292   NaN         Q\n",
            "503          504         0       3  ...   9.5875   NaN         S\n",
            "504          505         1       1  ...  86.5000   B79         S\n",
            "..           ...       ...     ...  ...      ...   ...       ...\n",
            "596          597         1       2  ...  33.0000   NaN         S\n",
            "597          598         0       3  ...   0.0000   NaN         S\n",
            "598          599         0       3  ...   7.2250   NaN         C\n",
            "599          600         1       1  ...  56.9292   A20         C\n",
            "600          601         1       2  ...  27.0000   NaN         S\n",
            "\n",
            "[101 rows x 12 columns]\n",
            "        Sex   Age  Survived Embarked\n",
            "0      male  22.0         0        S\n",
            "1    female  38.0         1        C\n",
            "2    female  26.0         1        S\n",
            "3    female  35.0         1        S\n",
            "4      male  35.0         0        S\n",
            "..      ...   ...       ...      ...\n",
            "886    male  27.0         0        S\n",
            "887  female  19.0         1        S\n",
            "888  female   NaN         0        S\n",
            "889    male  26.0         1        C\n",
            "890    male  32.0         0        Q\n",
            "\n",
            "[891 rows x 4 columns]\n",
            "    Sex   Age  Survived Embarked\n",
            "0  male  24.0         0        S\n",
            "Age         29.699118\n",
            "Survived     0.383838\n",
            "dtype: float64\n",
            "AxesSubplot(0.125,0.125;0.775x0.755)\n",
            "AxesSubplot(0.125,0.125;0.775x0.755)\n"
          ],
          "name": "stdout"
        },
        {
          "output_type": "display_data",
          "data": {
            "image/png": "[encoded data removed]",
            "text/plain": [
              "<Figure size 432x288 with 1 Axes>"
            ]
          },
          "metadata": {
            "tags": [],
            "needs_background": "light"
          }
        }
      ]
    }
  ]
}